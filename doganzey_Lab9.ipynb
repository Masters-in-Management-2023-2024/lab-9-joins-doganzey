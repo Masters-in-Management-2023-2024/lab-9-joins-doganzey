{
  "cells": [
    {
      "cell_type": "markdown",
      "metadata": {
        "id": "gs_wOGI5yU1w"
      },
      "source": [
        "# OPAN5510 Lab Assignment - Joins\n",
        "\n",
        "This lab focuses on using Polars to perform data joins and aggregations to answer business questions."
      ]
    },
    {
      "cell_type": "markdown",
      "metadata": {
        "id": "1RC5vZJsyU1x"
      },
      "source": [
        "# Bike Trips Dataset\n",
        "\n",
        "## Prerequisites\n",
        "\n",
        "For this assignment, you'll need to use Polars for data manipulation.\n",
        "\n",
        "*Insert a code block to import necessary packages (polars)*"
      ]
    },
    {
      "cell_type": "code",
      "execution_count": 1,
      "metadata": {
        "id": "U6sEu6oqyU1x"
      },
      "outputs": [],
      "source": [
        "# Import necessary packages\n",
        "import polars as pl"
      ]
    },
    {
      "cell_type": "markdown",
      "metadata": {
        "id": "BcAhQENByU1x"
      },
      "source": [
        "## Load Datasets\n",
        "\n",
        "Load the `bike_trips.csv` and `bike_weather.csv` files into Polars DataFrames called `trips` and `weather`, respectively.\n",
        "\n",
        "*Insert code block that reads these files into Polars DataFrames*"
      ]
    },
    {
      "cell_type": "code",
      "execution_count": 2,
      "metadata": {
        "colab": {
          "base_uri": "https://localhost:8080/"
        },
        "id": "O1NJ_d1SyU1x",
        "outputId": "8566653d-05ae-4301-c24c-949a469eca31"
      },
      "outputs": [
        {
          "output_type": "stream",
          "name": "stdout",
          "text": [
            "78704\n",
            "733\n"
          ]
        }
      ],
      "source": [
        "# Load the bike trips and weather data\n",
        "trips = pl.read_csv(\"https://raw.githubusercontent.com/philhetzel/opan5510-class9/refs/heads/main/data/bike_trips.csv\", null_values='NA')\n",
        "weather = pl.read_csv(\"https://raw.githubusercontent.com/philhetzel/opan5510-class9/refs/heads/main/data/bike_weather.csv\", null_values=['NA',''])\n",
        "\n",
        "trips = trips.with_columns(pl.col(\"date\").str.strptime(pl.Date, \"%Y-%m-%d\").alias(\"date\")) # ensure date column is typed correctly\n",
        "weather = weather.with_columns(pl.col(\"date\").str.strptime(pl.Date, \"%Y-%m-%d\").alias(\"date\")) # ensure date column is typed correctly\n",
        "print(trips.height)\n",
        "print(weather.height)"
      ]
    },
    {
      "cell_type": "markdown",
      "metadata": {
        "id": "R04JtG9EyU1x"
      },
      "source": [
        "## Business Question 1: What was the average `duration` of trips that occurred in rainy weather?\n",
        "\n",
        "#### Part A: Join the trips and weather data frames\n",
        "\n",
        "The `trips` data represent every ride taken for a bike share company. The `weather` data represent the prevailing weather for a particular day. Join the `trips` and `weather` data together using the `date` column. Name the resulting DataFrame `trips_weather`.\n",
        "\n",
        "*Insert a code block below that joins `trips` to `weather` using the `date` column.*"
      ]
    },
    {
      "cell_type": "code",
      "execution_count": 5,
      "metadata": {
        "id": "LMuv46gAyU1y"
      },
      "outputs": [],
      "source": [
        "# Join trips and weather data\n",
        "\n",
        "trips_weather = trips.join(\n",
        "    weather,\n",
        "    on=\"date\",\n",
        "    how=\"inner\"\n",
        ")\n"
      ]
    },
    {
      "cell_type": "markdown",
      "metadata": {
        "id": "jAmIh2v9yU1y"
      },
      "source": [
        "#### Part B: Calculate the average `duration` of trips in poor weather\n",
        "\n",
        "Using the `trips_weather` DataFrame, compute the average trip `duration` for days that had weather `events` (i.e. anytime a day had an event of anything but `null`). Name the column for average `duration`: `avg_duration`. The resulting DataFrame should have one row and be named `avg_bad_weather`.\n",
        "\n",
        "*Insert a code block that shows the computation of the average trip duration for days that had a weather event.*"
      ]
    },
    {
      "cell_type": "code",
      "execution_count": 20,
      "metadata": {
        "id": "GfK-KPe2yU1y",
        "colab": {
          "base_uri": "https://localhost:8080/"
        },
        "outputId": "41f32aea-adf7-4699-bb2b-513025221453"
      },
      "outputs": [
        {
          "output_type": "stream",
          "name": "stdout",
          "text": [
            "shape: (1, 1)\n",
            "┌──────────────┐\n",
            "│ avg_duration │\n",
            "│ ---          │\n",
            "│ f64          │\n",
            "╞══════════════╡\n",
            "│ 10.34899     │\n",
            "└──────────────┘\n"
          ]
        }
      ],
      "source": [
        "# Calculate average duration for trips with weather events\n",
        "\n",
        "avg_bad_weather = (\n",
        "    trips_weather\n",
        "    .filter(pl.col(\"events\").is_not_null())\n",
        "    .select(avg_duration=pl.col(\"duration\").mean())\n",
        ")\n",
        "\n",
        "print(avg_bad_weather)"
      ]
    },
    {
      "cell_type": "markdown",
      "metadata": {
        "id": "r1HZVy2qyU1y"
      },
      "source": [
        "# Baseball Dataset\n",
        "\n",
        "## Load Data\n",
        "\n",
        "Load the `Batting.csv`, `People.csv`, and `HallOfFame.csv` datasets into Polars DataFrames.\n",
        "\n",
        "*Insert a code block to load your datasets*"
      ]
    },
    {
      "cell_type": "code",
      "execution_count": 21,
      "metadata": {
        "id": "qrZO72DTyU1y"
      },
      "outputs": [],
      "source": [
        "# Load baseball datasets\n",
        "Batting = pl.read_csv(\"https://raw.githubusercontent.com/philhetzel/opan5510-class9/refs/heads/main/data/Batting.csv\", null_values='NA')\n",
        "People = pl.read_csv(\"https://raw.githubusercontent.com/philhetzel/opan5510-class9/refs/heads/main/data/People.csv\", null_values='NA')\n",
        "HallOfFame = pl.read_csv(\"https://raw.githubusercontent.com/philhetzel/opan5510-class9/refs/heads/main/data/HallOfFame.csv\", null_values='NA')\n"
      ]
    },
    {
      "cell_type": "markdown",
      "metadata": {
        "id": "M9wo7SwoyU1y"
      },
      "source": [
        "## Question 2: How many home runs (`HR`) were hit by players born in Florida?\n",
        "\n",
        "#### Part A: Join the `Batting` and `People` DataFrames together\n",
        "\n",
        "In order to answer this question, you'll need to use the `Batting` and `People` DataFrames. The `Batting` DataFrame has hitting statistics for every season that an individual player has played. The `People` DataFrame represents biographical data about every professional baseball player.\n",
        "\n",
        "Join the `People` DataFrame into the `Batting` DataFrame so that we can perform analysis on batting statistics using columns from the `People` DataFrame. Name the new DataFrame `stats_w_bio`.\n",
        "\n",
        "*Insert a code block that joins the `Batting` DataFrame to the `People` DataFrame.*"
      ]
    },
    {
      "cell_type": "code",
      "execution_count": 24,
      "metadata": {
        "id": "BOYs3snEyU1y",
        "colab": {
          "base_uri": "https://localhost:8080/",
          "height": 637
        },
        "outputId": "aebba5d0-6860-4569-b08f-05a35fd9fd7c"
      },
      "outputs": [
        {
          "output_type": "execute_result",
          "data": {
            "text/plain": [
              "shape: (112_184, 47)\n",
              "┌───────────┬────────┬───────┬────────┬───┬──────────┬───────────┬────────────┬────────────┐\n",
              "│ playerID  ┆ yearID ┆ stint ┆ teamID ┆ … ┆ retroID  ┆ bbrefID   ┆ deathDate  ┆ birthDate  │\n",
              "│ ---       ┆ ---    ┆ ---   ┆ ---    ┆   ┆ ---      ┆ ---       ┆ ---        ┆ ---        │\n",
              "│ str       ┆ i64    ┆ i64   ┆ str    ┆   ┆ str      ┆ str       ┆ str        ┆ str        │\n",
              "╞═══════════╪════════╪═══════╪════════╪═══╪══════════╪═══════════╪════════════╪════════════╡\n",
              "│ abercda01 ┆ 1871   ┆ 1     ┆ TRO    ┆ … ┆ aberd101 ┆ abercda01 ┆ 1939-11-11 ┆ 1850-01-02 │\n",
              "│ addybo01  ┆ 1871   ┆ 1     ┆ RC1    ┆ … ┆ addyb101 ┆ addybo01  ┆ 1910-04-09 ┆ null       │\n",
              "│ allisar01 ┆ 1871   ┆ 1     ┆ CL1    ┆ … ┆ allia101 ┆ allisar01 ┆ 1916-02-25 ┆ 1849-01-29 │\n",
              "│ allisdo01 ┆ 1871   ┆ 1     ┆ WS3    ┆ … ┆ allid101 ┆ allisdo01 ┆ 1916-12-19 ┆ 1846-07-12 │\n",
              "│ ansonca01 ┆ 1871   ┆ 1     ┆ RC1    ┆ … ┆ ansoc101 ┆ ansonca01 ┆ 1922-04-14 ┆ 1852-04-17 │\n",
              "│ …         ┆ …      ┆ …     ┆ …      ┆ … ┆ …        ┆ …         ┆ …          ┆ …          │\n",
              "│ zimmebr01 ┆ 2022   ┆ 1     ┆ TOR    ┆ … ┆ zimmb001 ┆ zimmebr01 ┆ null       ┆ 1992-11-27 │\n",
              "│ zimmebr01 ┆ 2022   ┆ 2     ┆ PHI    ┆ … ┆ zimmb001 ┆ zimmebr01 ┆ null       ┆ 1992-11-27 │\n",
              "│ zimmebr01 ┆ 2022   ┆ 3     ┆ TOR    ┆ … ┆ zimmb001 ┆ zimmebr01 ┆ null       ┆ 1992-11-27 │\n",
              "│ zimmebr02 ┆ 2022   ┆ 1     ┆ BAL    ┆ … ┆ zimmb002 ┆ zimmebr02 ┆ null       ┆ 1995-02-09 │\n",
              "│ zuninmi01 ┆ 2022   ┆ 1     ┆ TBA    ┆ … ┆ zunim001 ┆ zuninmi01 ┆ null       ┆ 1991-03-25 │\n",
              "└───────────┴────────┴───────┴────────┴───┴──────────┴───────────┴────────────┴────────────┘"
            ],
            "text/html": [
              "<div><style>\n",
              ".dataframe > thead > tr,\n",
              ".dataframe > tbody > tr {\n",
              "  text-align: right;\n",
              "  white-space: pre-wrap;\n",
              "}\n",
              "</style>\n",
              "<small>shape: (112_184, 47)</small><table border=\"1\" class=\"dataframe\"><thead><tr><th>playerID</th><th>yearID</th><th>stint</th><th>teamID</th><th>lgID</th><th>G</th><th>AB</th><th>R</th><th>H</th><th>X2B</th><th>X3B</th><th>HR</th><th>RBI</th><th>SB</th><th>CS</th><th>BB</th><th>SO</th><th>IBB</th><th>HBP</th><th>SH</th><th>SF</th><th>GIDP</th><th>birthYear</th><th>birthMonth</th><th>birthDay</th><th>birthCountry</th><th>birthState</th><th>birthCity</th><th>deathYear</th><th>deathMonth</th><th>deathDay</th><th>deathCountry</th><th>deathState</th><th>deathCity</th><th>nameFirst</th><th>nameLast</th><th>nameGiven</th><th>weight</th><th>height</th><th>bats</th><th>throws</th><th>debut</th><th>finalGame</th><th>retroID</th><th>bbrefID</th><th>deathDate</th><th>birthDate</th></tr><tr><td>str</td><td>i64</td><td>i64</td><td>str</td><td>str</td><td>i64</td><td>i64</td><td>i64</td><td>i64</td><td>i64</td><td>i64</td><td>i64</td><td>i64</td><td>i64</td><td>i64</td><td>i64</td><td>i64</td><td>str</td><td>str</td><td>str</td><td>str</td><td>i64</td><td>i64</td><td>i64</td><td>i64</td><td>str</td><td>str</td><td>str</td><td>i64</td><td>i64</td><td>i64</td><td>str</td><td>str</td><td>str</td><td>str</td><td>str</td><td>str</td><td>i64</td><td>i64</td><td>str</td><td>str</td><td>str</td><td>str</td><td>str</td><td>str</td><td>str</td><td>str</td></tr></thead><tbody><tr><td>&quot;abercda01&quot;</td><td>1871</td><td>1</td><td>&quot;TRO&quot;</td><td>null</td><td>1</td><td>4</td><td>0</td><td>0</td><td>0</td><td>0</td><td>0</td><td>0</td><td>0</td><td>0</td><td>0</td><td>0</td><td>null</td><td>null</td><td>null</td><td>null</td><td>0</td><td>1850</td><td>1</td><td>2</td><td>&quot;USA&quot;</td><td>&quot;OK&quot;</td><td>&quot;Fort Towson&quot;</td><td>1939</td><td>11</td><td>11</td><td>&quot;USA&quot;</td><td>&quot;PA&quot;</td><td>&quot;Philadelphia&quot;</td><td>&quot;Frank&quot;</td><td>&quot;Abercrombie&quot;</td><td>&quot;Francis Patterson&quot;</td><td>null</td><td>null</td><td>null</td><td>null</td><td>&quot;1871-10-21&quot;</td><td>&quot;1871-10-21&quot;</td><td>&quot;aberd101&quot;</td><td>&quot;abercda01&quot;</td><td>&quot;1939-11-11&quot;</td><td>&quot;1850-01-02&quot;</td></tr><tr><td>&quot;addybo01&quot;</td><td>1871</td><td>1</td><td>&quot;RC1&quot;</td><td>null</td><td>25</td><td>118</td><td>30</td><td>32</td><td>6</td><td>0</td><td>0</td><td>13</td><td>8</td><td>1</td><td>4</td><td>0</td><td>null</td><td>null</td><td>null</td><td>null</td><td>0</td><td>1842</td><td>2</td><td>null</td><td>&quot;CAN&quot;</td><td>&quot;ON&quot;</td><td>&quot;Port Hope&quot;</td><td>1910</td><td>4</td><td>9</td><td>&quot;USA&quot;</td><td>&quot;ID&quot;</td><td>&quot;Pocatello&quot;</td><td>&quot;Bob&quot;</td><td>&quot;Addy&quot;</td><td>&quot;Robert Edward&quot;</td><td>160</td><td>68</td><td>&quot;L&quot;</td><td>&quot;L&quot;</td><td>&quot;1871-05-06&quot;</td><td>&quot;1877-10-06&quot;</td><td>&quot;addyb101&quot;</td><td>&quot;addybo01&quot;</td><td>&quot;1910-04-09&quot;</td><td>null</td></tr><tr><td>&quot;allisar01&quot;</td><td>1871</td><td>1</td><td>&quot;CL1&quot;</td><td>null</td><td>29</td><td>137</td><td>28</td><td>40</td><td>4</td><td>5</td><td>0</td><td>19</td><td>3</td><td>1</td><td>2</td><td>5</td><td>null</td><td>null</td><td>null</td><td>null</td><td>1</td><td>1849</td><td>1</td><td>29</td><td>&quot;USA&quot;</td><td>&quot;PA&quot;</td><td>&quot;Philadelphia&quot;</td><td>1916</td><td>2</td><td>25</td><td>&quot;USA&quot;</td><td>&quot;DC&quot;</td><td>&quot;Washington&quot;</td><td>&quot;Art&quot;</td><td>&quot;Allison&quot;</td><td>&quot;Arthur Algernon&quot;</td><td>150</td><td>68</td><td>null</td><td>null</td><td>&quot;1871-05-04&quot;</td><td>&quot;1876-10-05&quot;</td><td>&quot;allia101&quot;</td><td>&quot;allisar01&quot;</td><td>&quot;1916-02-25&quot;</td><td>&quot;1849-01-29&quot;</td></tr><tr><td>&quot;allisdo01&quot;</td><td>1871</td><td>1</td><td>&quot;WS3&quot;</td><td>null</td><td>27</td><td>133</td><td>28</td><td>44</td><td>10</td><td>2</td><td>2</td><td>27</td><td>1</td><td>1</td><td>0</td><td>2</td><td>null</td><td>null</td><td>null</td><td>null</td><td>0</td><td>1846</td><td>7</td><td>12</td><td>&quot;USA&quot;</td><td>&quot;PA&quot;</td><td>&quot;Philadelphia&quot;</td><td>1916</td><td>12</td><td>19</td><td>&quot;USA&quot;</td><td>&quot;DC&quot;</td><td>&quot;Washington&quot;</td><td>&quot;Doug&quot;</td><td>&quot;Allison&quot;</td><td>&quot;Douglas L.&quot;</td><td>160</td><td>70</td><td>&quot;R&quot;</td><td>&quot;R&quot;</td><td>&quot;1871-05-05&quot;</td><td>&quot;1883-07-13&quot;</td><td>&quot;allid101&quot;</td><td>&quot;allisdo01&quot;</td><td>&quot;1916-12-19&quot;</td><td>&quot;1846-07-12&quot;</td></tr><tr><td>&quot;ansonca01&quot;</td><td>1871</td><td>1</td><td>&quot;RC1&quot;</td><td>null</td><td>25</td><td>120</td><td>29</td><td>39</td><td>11</td><td>3</td><td>0</td><td>16</td><td>6</td><td>2</td><td>2</td><td>1</td><td>null</td><td>null</td><td>null</td><td>null</td><td>0</td><td>1852</td><td>4</td><td>17</td><td>&quot;USA&quot;</td><td>&quot;IA&quot;</td><td>&quot;Marshalltown&quot;</td><td>1922</td><td>4</td><td>14</td><td>&quot;USA&quot;</td><td>&quot;IL&quot;</td><td>&quot;Chicago&quot;</td><td>&quot;Cap&quot;</td><td>&quot;Anson&quot;</td><td>&quot;Adrian Constantine&quot;</td><td>227</td><td>72</td><td>&quot;R&quot;</td><td>&quot;R&quot;</td><td>&quot;1871-05-06&quot;</td><td>&quot;1897-10-03&quot;</td><td>&quot;ansoc101&quot;</td><td>&quot;ansonca01&quot;</td><td>&quot;1922-04-14&quot;</td><td>&quot;1852-04-17&quot;</td></tr><tr><td>&hellip;</td><td>&hellip;</td><td>&hellip;</td><td>&hellip;</td><td>&hellip;</td><td>&hellip;</td><td>&hellip;</td><td>&hellip;</td><td>&hellip;</td><td>&hellip;</td><td>&hellip;</td><td>&hellip;</td><td>&hellip;</td><td>&hellip;</td><td>&hellip;</td><td>&hellip;</td><td>&hellip;</td><td>&hellip;</td><td>&hellip;</td><td>&hellip;</td><td>&hellip;</td><td>&hellip;</td><td>&hellip;</td><td>&hellip;</td><td>&hellip;</td><td>&hellip;</td><td>&hellip;</td><td>&hellip;</td><td>&hellip;</td><td>&hellip;</td><td>&hellip;</td><td>&hellip;</td><td>&hellip;</td><td>&hellip;</td><td>&hellip;</td><td>&hellip;</td><td>&hellip;</td><td>&hellip;</td><td>&hellip;</td><td>&hellip;</td><td>&hellip;</td><td>&hellip;</td><td>&hellip;</td><td>&hellip;</td><td>&hellip;</td><td>&hellip;</td><td>&hellip;</td></tr><tr><td>&quot;zimmebr01&quot;</td><td>2022</td><td>1</td><td>&quot;TOR&quot;</td><td>&quot;AL&quot;</td><td>77</td><td>76</td><td>11</td><td>8</td><td>4</td><td>0</td><td>2</td><td>3</td><td>2</td><td>1</td><td>5</td><td>33</td><td>&quot;0&quot;</td><td>&quot;5&quot;</td><td>&quot;1&quot;</td><td>&quot;0&quot;</td><td>0</td><td>1992</td><td>11</td><td>27</td><td>&quot;USA&quot;</td><td>&quot;CA&quot;</td><td>&quot;San Francisco&quot;</td><td>null</td><td>null</td><td>null</td><td>null</td><td>null</td><td>null</td><td>&quot;Bradley&quot;</td><td>&quot;Zimmer&quot;</td><td>&quot;Bradley Clarke&quot;</td><td>185</td><td>76</td><td>&quot;L&quot;</td><td>&quot;R&quot;</td><td>&quot;2017-05-16&quot;</td><td>&quot;2022-10-05&quot;</td><td>&quot;zimmb001&quot;</td><td>&quot;zimmebr01&quot;</td><td>null</td><td>&quot;1992-11-27&quot;</td></tr><tr><td>&quot;zimmebr01&quot;</td><td>2022</td><td>2</td><td>&quot;PHI&quot;</td><td>&quot;NL&quot;</td><td>9</td><td>16</td><td>4</td><td>4</td><td>1</td><td>0</td><td>0</td><td>0</td><td>0</td><td>0</td><td>0</td><td>4</td><td>&quot;0&quot;</td><td>&quot;0&quot;</td><td>&quot;0&quot;</td><td>&quot;0&quot;</td><td>0</td><td>1992</td><td>11</td><td>27</td><td>&quot;USA&quot;</td><td>&quot;CA&quot;</td><td>&quot;San Francisco&quot;</td><td>null</td><td>null</td><td>null</td><td>null</td><td>null</td><td>null</td><td>&quot;Bradley&quot;</td><td>&quot;Zimmer&quot;</td><td>&quot;Bradley Clarke&quot;</td><td>185</td><td>76</td><td>&quot;L&quot;</td><td>&quot;R&quot;</td><td>&quot;2017-05-16&quot;</td><td>&quot;2022-10-05&quot;</td><td>&quot;zimmb001&quot;</td><td>&quot;zimmebr01&quot;</td><td>null</td><td>&quot;1992-11-27&quot;</td></tr><tr><td>&quot;zimmebr01&quot;</td><td>2022</td><td>3</td><td>&quot;TOR&quot;</td><td>&quot;AL&quot;</td><td>23</td><td>13</td><td>3</td><td>1</td><td>0</td><td>0</td><td>0</td><td>2</td><td>1</td><td>1</td><td>0</td><td>8</td><td>&quot;0&quot;</td><td>&quot;1&quot;</td><td>&quot;0&quot;</td><td>&quot;0&quot;</td><td>0</td><td>1992</td><td>11</td><td>27</td><td>&quot;USA&quot;</td><td>&quot;CA&quot;</td><td>&quot;San Francisco&quot;</td><td>null</td><td>null</td><td>null</td><td>null</td><td>null</td><td>null</td><td>&quot;Bradley&quot;</td><td>&quot;Zimmer&quot;</td><td>&quot;Bradley Clarke&quot;</td><td>185</td><td>76</td><td>&quot;L&quot;</td><td>&quot;R&quot;</td><td>&quot;2017-05-16&quot;</td><td>&quot;2022-10-05&quot;</td><td>&quot;zimmb001&quot;</td><td>&quot;zimmebr01&quot;</td><td>null</td><td>&quot;1992-11-27&quot;</td></tr><tr><td>&quot;zimmebr02&quot;</td><td>2022</td><td>1</td><td>&quot;BAL&quot;</td><td>&quot;AL&quot;</td><td>15</td><td>0</td><td>0</td><td>0</td><td>0</td><td>0</td><td>0</td><td>0</td><td>0</td><td>0</td><td>0</td><td>0</td><td>&quot;0&quot;</td><td>&quot;0&quot;</td><td>&quot;0&quot;</td><td>&quot;0&quot;</td><td>0</td><td>1995</td><td>2</td><td>9</td><td>&quot;USA&quot;</td><td>&quot;MD&quot;</td><td>&quot;Baltimore&quot;</td><td>null</td><td>null</td><td>null</td><td>null</td><td>null</td><td>null</td><td>&quot;Bruce&quot;</td><td>&quot;Zimmermann&quot;</td><td>&quot;Bruce Anthony&quot;</td><td>215</td><td>73</td><td>&quot;L&quot;</td><td>&quot;L&quot;</td><td>&quot;2020-09-17&quot;</td><td>&quot;2022-09-05&quot;</td><td>&quot;zimmb002&quot;</td><td>&quot;zimmebr02&quot;</td><td>null</td><td>&quot;1995-02-09&quot;</td></tr><tr><td>&quot;zuninmi01&quot;</td><td>2022</td><td>1</td><td>&quot;TBA&quot;</td><td>&quot;AL&quot;</td><td>36</td><td>115</td><td>7</td><td>17</td><td>3</td><td>0</td><td>5</td><td>16</td><td>0</td><td>0</td><td>6</td><td>46</td><td>&quot;0&quot;</td><td>&quot;1&quot;</td><td>&quot;0&quot;</td><td>&quot;1&quot;</td><td>2</td><td>1991</td><td>3</td><td>25</td><td>&quot;USA&quot;</td><td>&quot;FL&quot;</td><td>&quot;Cape Coral&quot;</td><td>null</td><td>null</td><td>null</td><td>null</td><td>null</td><td>null</td><td>&quot;Mike&quot;</td><td>&quot;Zunino&quot;</td><td>&quot;Michael Accorsi&quot;</td><td>235</td><td>74</td><td>&quot;R&quot;</td><td>&quot;R&quot;</td><td>&quot;2013-06-12&quot;</td><td>&quot;2022-06-09&quot;</td><td>&quot;zunim001&quot;</td><td>&quot;zuninmi01&quot;</td><td>null</td><td>&quot;1991-03-25&quot;</td></tr></tbody></table></div>"
            ]
          },
          "metadata": {},
          "execution_count": 24
        }
      ],
      "source": [
        "# Join Batting and People DataFrames\n",
        "\n",
        "stats_w_bio = Batting.join(\n",
        "    People,\n",
        "    on=\"playerID\",\n",
        "    how=\"inner\"\n",
        ")\n",
        "stats_w_bio"
      ]
    },
    {
      "cell_type": "markdown",
      "metadata": {
        "id": "Pr63NEFcyU1y"
      },
      "source": [
        "#### Part B: Calculate the total number of home runs that were hit by Florida-born players\n",
        "\n",
        "You would like to perform an analysis about how many home runs (`HR`) were hit by players that were born in the `birthState` of Florida (`FL`). Using the new `stats_w_bio` DataFrame that combines batting statistics with biographical information, compute the total number of home runs (`HR`) hit by players who were born (`birthState`) in Florida (`FL`) and name the new column `total_hr`. The DataFrame should have one row and be named `florida_hr`.\n",
        "\n",
        "*Insert a block of code that shows the computation of total home runs hit by players born in Florida. The output of this code block should be a DataFrame.*"
      ]
    },
    {
      "cell_type": "code",
      "execution_count": 25,
      "metadata": {
        "id": "bBGsxFDUyU1y",
        "colab": {
          "base_uri": "https://localhost:8080/"
        },
        "outputId": "82378f2d-c711-4537-aa74-54e8f5c25251"
      },
      "outputs": [
        {
          "output_type": "stream",
          "name": "stdout",
          "text": [
            "shape: (1, 1)\n",
            "┌──────────┐\n",
            "│ total_hr │\n",
            "│ ---      │\n",
            "│ i64      │\n",
            "╞══════════╡\n",
            "│ 16225    │\n",
            "└──────────┘\n"
          ]
        }
      ],
      "source": [
        "# Calculate total home runs by Florida-born players\n",
        "\n",
        "\n",
        "\n",
        "florida_hr = (\n",
        "    stats_w_bio\n",
        "    .filter(pl.col(\"birthState\") == \"FL\")\n",
        "    .select(total_hr=pl.col(\"HR\").sum())\n",
        ")\n",
        "\n",
        "print(florida_hr)"
      ]
    },
    {
      "cell_type": "markdown",
      "metadata": {
        "id": "d5v5qjkayU1y"
      },
      "source": [
        "## Question 3: What are the average number of career Hits (`H`) for Hall of Fame baseball players?\n",
        "\n",
        "#### Part A: Clean the `HallOfFame` DataFrame\n",
        "\n",
        "You would like to perform an analysis on the batting statistics of Hall of Fame baseball players. In order to answer this question, you'll need to use the `Batting` and `HallOfFame` DataFrames.\n",
        "\n",
        "The first thing that you have to do to perform this analysis is to join the `HallOfFame` data into the `Batting` data to understand which players are \"Hall of Famers\". To join the data correctly, we have to ensure that the `playerID` field is unique in `HallOfFame`. Not every player in the `HallOfFame` DataFrame is a Hall of Famer; their `inducted` field must have the value of `Y` and their `category` field should have the value of `Player`. Name the new DataFrame `hall_inducted`.\n",
        "\n",
        "*Insert a code block to transform the `HallOfFame` DataFrame to ensure that `playerID` is unique.*"
      ]
    },
    {
      "cell_type": "code",
      "execution_count": 26,
      "metadata": {
        "id": "P0lc9qLPyU1y",
        "colab": {
          "base_uri": "https://localhost:8080/"
        },
        "outputId": "86aac42f-bafa-49ce-cbf3-ee6044a135c8"
      },
      "outputs": [
        {
          "output_type": "stream",
          "name": "stdout",
          "text": [
            "shape: (270, 9)\n",
            "┌───────────┬────────┬──────────┬─────────┬───┬───────┬──────────┬──────────┬─────────────┐\n",
            "│ playerID  ┆ yearID ┆ votedBy  ┆ ballots ┆ … ┆ votes ┆ inducted ┆ category ┆ needed_note │\n",
            "│ ---       ┆ ---    ┆ ---      ┆ ---     ┆   ┆ ---   ┆ ---      ┆ ---      ┆ ---         │\n",
            "│ str       ┆ i64    ┆ str      ┆ i64     ┆   ┆ i64   ┆ str      ┆ str      ┆ str         │\n",
            "╞═══════════╪════════╪══════════╪═════════╪═══╪═══════╪══════════╪══════════╪═════════════╡\n",
            "│ bagweje01 ┆ 2017   ┆ BBWAA    ┆ 442     ┆ … ┆ 381   ┆ Y        ┆ Player   ┆ null        │\n",
            "│ wanerll01 ┆ 1967   ┆ Veterans ┆ null    ┆ … ┆ null  ┆ Y        ┆ Player   ┆ null        │\n",
            "│ murraed02 ┆ 2003   ┆ BBWAA    ┆ 496     ┆ … ┆ 423   ┆ Y        ┆ Player   ┆ null        │\n",
            "│ perryga01 ┆ 1991   ┆ BBWAA    ┆ 443     ┆ … ┆ 342   ┆ Y        ┆ Player   ┆ null        │\n",
            "│ traynpi01 ┆ 1948   ┆ BBWAA    ┆ 121     ┆ … ┆ 93    ┆ Y        ┆ Player   ┆ null        │\n",
            "│ …         ┆ …      ┆ …        ┆ …       ┆ … ┆ …     ┆ …        ┆ …        ┆ …           │\n",
            "│ alexape01 ┆ 1938   ┆ BBWAA    ┆ 262     ┆ … ┆ 212   ┆ Y        ┆ Player   ┆ null        │\n",
            "│ applilu01 ┆ 1964   ┆ Run Off  ┆ 201     ┆ … ┆ 189   ┆ Y        ┆ Player   ┆ 1st         │\n",
            "│ roganbu99 ┆ 1998   ┆ Veterans ┆ null    ┆ … ┆ null  ┆ Y        ┆ Player   ┆ null        │\n",
            "│ willivi01 ┆ 1995   ┆ Veterans ┆ null    ┆ … ┆ null  ┆ Y        ┆ Player   ┆ null        │\n",
            "│ puckeki01 ┆ 2001   ┆ BBWAA    ┆ 515     ┆ … ┆ 423   ┆ Y        ┆ Player   ┆ null        │\n",
            "└───────────┴────────┴──────────┴─────────┴───┴───────┴──────────┴──────────┴─────────────┘\n"
          ]
        }
      ],
      "source": [
        "# Clean HallOfFame DataFrame\n",
        "\n",
        "hall_inducted = (\n",
        "    HallOfFame\n",
        "    .filter((pl.col(\"inducted\") == \"Y\") & (pl.col(\"category\") == \"Player\"))\n",
        "    .unique(subset=[\"playerID\"])\n",
        ")\n",
        "\n",
        "print(hall_inducted)"
      ]
    },
    {
      "cell_type": "markdown",
      "metadata": {
        "id": "A6z9HFdjyU1y"
      },
      "source": [
        "#### Part B: Find the average number of career hits across Hall of Fame players\n",
        "\n",
        "Join the `hall_inducted` data into the `Batting` data by `playerID`. Aggregate the data to compute the average total hits (`H`) across all Hall of Fame players. To do this, you will first need to calculate the total number of hits for each player and then calculate the average hits across all players. Call the new column `average_hits`. The resulting DataFrame should have one row and be named `hof_hits`.\n",
        "\n",
        "*Insert a code block that joins the `Batting` and the `hall_inducted` data together and then calculates the average number of career hits (`H`) across all Hall of Fame players. The output of this code block should be a DataFrame.*"
      ]
    },
    {
      "cell_type": "code",
      "execution_count": 28,
      "metadata": {
        "id": "JzWY4cVbyU1y",
        "colab": {
          "base_uri": "https://localhost:8080/"
        },
        "outputId": "04eb89e8-59bc-4086-cca9-909925b1ef97"
      },
      "outputs": [
        {
          "output_type": "stream",
          "name": "stdout",
          "text": [
            "shape: (1, 1)\n",
            "┌──────────────┐\n",
            "│ average_hits │\n",
            "│ ---          │\n",
            "│ f64          │\n",
            "╞══════════════╡\n",
            "│ 1717.29918   │\n",
            "└──────────────┘\n"
          ]
        }
      ],
      "source": [
        "# Calculate average career hits for Hall of Fame players\n",
        "hof_hits = (\n",
        "    Batting\n",
        "    .join(hall_inducted, on=\"playerID\", how=\"inner\")\n",
        "    .group_by(\"playerID\")\n",
        "    .agg(pl.col(\"H\").sum().alias(\"career_hits\"))\n",
        "    .select(pl.col(\"career_hits\").mean().alias(\"average_hits\"))\n",
        ")\n",
        "\n",
        "print(hof_hits)"
      ]
    }
  ],
  "metadata": {
    "kernelspec": {
      "display_name": "Python 3",
      "language": "python",
      "name": "python3"
    },
    "language_info": {
      "codemirror_mode": {
        "name": "ipython",
        "version": 3
      },
      "file_extension": ".py",
      "mimetype": "text/x-python",
      "name": "python",
      "nbconvert_exporter": "python",
      "pygments_lexer": "ipython3",
      "version": "3.12.0"
    },
    "colab": {
      "provenance": []
    }
  },
  "nbformat": 4,
  "nbformat_minor": 0
}